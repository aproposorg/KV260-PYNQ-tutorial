{
 "cells": [
  {
   "cell_type": "code",
   "execution_count": 39,
   "metadata": {},
   "outputs": [],
   "source": [
    "# add your stream based IP into the KV260 PYNQ\n",
    "# This notebooks shows a simple stream based HLS IP,\n",
    "# you can send data into the HLS IP using Python. The data will be transfered to the PL using stream interface"
   ]
  },
  {
   "cell_type": "code",
   "execution_count": 1,
   "metadata": {},
   "outputs": [
    {
     "data": {
      "application/javascript": [
       "\n",
       "try {\n",
       "require(['notebook/js/codecell'], function(codecell) {\n",
       "  codecell.CodeCell.options_default.highlight_modes[\n",
       "      'magic_text/x-csrc'] = {'reg':[/^%%microblaze/]};\n",
       "  Jupyter.notebook.events.one('kernel_ready.Kernel', function(){\n",
       "      Jupyter.notebook.get_cells().map(function(cell){\n",
       "          if (cell.cell_type == 'code'){ cell.auto_highlight(); } }) ;\n",
       "  });\n",
       "});\n",
       "} catch (e) {};\n"
      ]
     },
     "metadata": {},
     "output_type": "display_data"
    },
    {
     "data": {
      "application/javascript": [
       "\n",
       "try {\n",
       "require(['notebook/js/codecell'], function(codecell) {\n",
       "  codecell.CodeCell.options_default.highlight_modes[\n",
       "      'magic_text/x-csrc'] = {'reg':[/^%%pybind11/]};\n",
       "  Jupyter.notebook.events.one('kernel_ready.Kernel', function(){\n",
       "      Jupyter.notebook.get_cells().map(function(cell){\n",
       "          if (cell.cell_type == 'code'){ cell.auto_highlight(); } }) ;\n",
       "  });\n",
       "});\n",
       "} catch (e) {};\n"
      ]
     },
     "metadata": {},
     "output_type": "display_data"
    }
   ],
   "source": [
    "# To program the FPGA and show the info regarding the IP and the name of top function\n",
    "from pynq import Overlay\n",
    "ol = Overlay(\"./dma_ip_example.bit\")\n",
    "ol.ip_dict"
   ]
  },
  {
   "cell_type": "markdown",
   "metadata": {},
   "source": [
    "The HLS has the default name from the Vivado project of *example_0*. \n",
    "\n",
    "Check *help* for the HLS IP:"
   ]
  },
  {
   "cell_type": "code",
   "execution_count": 3,
   "metadata": {},
   "outputs": [
    {
     "data": {
      "text/plain": [
       "\u001b[0;31mType:\u001b[0m        DefaultIP\n",
       "\u001b[0;31mString form:\u001b[0m <pynq.overlay.DefaultIP object at 0xffff7aa68340>\n",
       "\u001b[0;31mFile:\u001b[0m        /usr/local/share/pynq-venv/lib/python3.10/site-packages/pynq/overlay.py\n",
       "\u001b[0;31mDocstring:\u001b[0m  \n",
       "Driver for an IP without a more specific driver\n",
       "\n",
       "This driver wraps an MMIO device and provides a base class\n",
       "for more specific drivers written later. It also provides\n",
       "access to GPIO outputs and interrupts inputs via attributes. More specific\n",
       "drivers should inherit from `DefaultIP` and include a\n",
       "`bindto` entry containing all of the IP that the driver\n",
       "should bind to. Subclasses meeting these requirements will\n",
       "automatically be registered.\n",
       "\n",
       "Attributes\n",
       "----------\n",
       "mmio : pynq.MMIO\n",
       "    Underlying MMIO driver for the device\n",
       "_interrupts : dict\n",
       "    Subset of the PL.interrupt_pins related to this IP\n",
       "_gpio : dict\n",
       "    Subset of the PL.gpio_dict related to this IP\n"
      ]
     },
     "metadata": {},
     "output_type": "display_data"
    }
   ],
   "source": [
    "ol.example_0?"
   ]
  },
  {
   "cell_type": "markdown",
   "metadata": {},
   "source": []
  },
  {
   "cell_type": "code",
   "execution_count": 4,
   "metadata": {},
   "outputs": [],
   "source": [
    "# Create aliases for calling of the overlay and send and receieve channel of the DMA block\n",
    "dma = ol.axi_dma_0\n",
    "dma_send = ol.axi_dma_0.sendchannel\n",
    "dma_recv = ol.axi_dma_0.recvchannel\n",
    "\n",
    "hls_ip = ol.example_0 "
   ]
  },
  {
   "cell_type": "code",
   "execution_count": 5,
   "metadata": {},
   "outputs": [
    {
     "data": {
      "text/plain": [
       "RegisterMap {\n",
       "  CTRL = Register(AP_START=0, AP_DONE=0, AP_IDLE=1, AP_READY=0, RESERVED_1=0, AUTO_RESTART=0, RESERVED_2=0, INTERRUPT=0, RESERVED_3=0),\n",
       "  GIER = Register(Enable=0, RESERVED=0),\n",
       "  IP_IER = Register(CHAN0_INT_EN=0, CHAN1_INT_EN=0, RESERVED_0=0),\n",
       "  IP_ISR = Register(CHAN0_INT_ST=0, CHAN1_INT_ST=0, RESERVED_0=0)\n",
       "}"
      ]
     },
     "execution_count": 5,
     "metadata": {},
     "output_type": "execute_result"
    }
   ],
   "source": [
    "# Check the register map, this is important step to check the status of the HLS IP.\n",
    "\n",
    "# Note that the HLS IP is not started yet (AP_START=0). You can also see the IP is *idle* (AP_IDLE=1).\n",
    "# We will start the HLS IP and then start some transfers from the DMA. \n",
    "# We could initiate the DMA transfers first if we preferred. The DMA transfers would *stall* until the IP is started. \n",
    "\n",
    "hls_ip.register_map"
   ]
  },
  {
   "cell_type": "code",
   "execution_count": 6,
   "metadata": {},
   "outputs": [
    {
     "data": {
      "text/plain": [
       "RegisterMap {\n",
       "  CTRL = Register(AP_START=1, AP_DONE=0, AP_IDLE=0, AP_READY=0, RESERVED_1=0, AUTO_RESTART=1, RESERVED_2=0, INTERRUPT=0, RESERVED_3=0),\n",
       "  GIER = Register(Enable=0, RESERVED=0),\n",
       "  IP_IER = Register(CHAN0_INT_EN=0, CHAN1_INT_EN=0, RESERVED_0=0),\n",
       "  IP_ISR = Register(CHAN0_INT_ST=0, CHAN1_INT_ST=0, RESERVED_0=0)\n",
       "}"
      ]
     },
     "execution_count": 6,
     "metadata": {},
     "output_type": "execute_result"
    }
   ],
   "source": [
    "# To start the IP, we can write the bit into the 0x81 address, \n",
    "# The writing only need to be done onece\n",
    "\n",
    "CONTROL_REGISTER = 0x0\n",
    "hls_ip.write(CONTROL_REGISTER, 0x81) # 0x81 will set bit 0\n",
    "hls_ip.register_map"
   ]
  },
  {
   "cell_type": "markdown",
   "metadata": {},
   "source": [
    "Check the correct bits have been set."
   ]
  },
  {
   "cell_type": "code",
   "execution_count": 8,
   "metadata": {},
   "outputs": [],
   "source": [
    "# now we prepare the input data needed to be sent to the HLS IP \n",
    "# Note: The space you allowcated and the datatype you use here is important, this should match with the HLS design where you define your stream interface.\n",
    "#       The sie of the interface will also affect your Vivado Block design, \n",
    "#       you may also need to change the width of data there, more specially the DMA block, Stream data width \n",
    "from pynq import allocate\n",
    "import numpy as np\n",
    "\n",
    "data_size = 5\n",
    "input_buffer = allocate(shape=(data_size,), dtype=np.uint32)\n",
    "output_buffer = allocate(shape=(data_size,), dtype=np.uint32)\n",
    "\n",
    "for i in range(data_size):\n",
    "    input_buffer[i] = i"
   ]
  },
  {
   "cell_type": "code",
   "execution_count": 35,
   "metadata": {},
   "outputs": [],
   "source": [
    "# We can define a function that send and receieve the data to and from the DMA\n",
    "# Note: the Wait function can be very useful, you can check if your transfer had done, \n",
    "#.      If the wait function can not complete, stalling may happen, common issue can be wrong input data type or space, no TLAST signal in HLS design\n",
    "def runKernel():\n",
    "    dma_send.transfer(input_buffer)\n",
    "    print(\"DMA send transfer\")\n",
    "    dma_recv.transfer(output_buffer)\n",
    "    print(\"DMA recv transfer\")\n",
    "    dma_send.wait()\n",
    "    print(\" send wait done\")\n",
    "    dma_recv.wait()\n",
    "    print(\" resv wait done\")"
   ]
  },
  {
   "cell_type": "code",
   "execution_count": 48,
   "metadata": {},
   "outputs": [
    {
     "name": "stdout",
     "output_type": "stream",
     "text": [
      "DMA send transfer\n",
      "DMA recv transfer\n",
      " send wait done\n",
      " resv wait done\n",
      "15\n",
      "16\n",
      "17\n",
      "18\n",
      "19\n"
     ]
    }
   ],
   "source": [
    "for i in range(data_size):\n",
    "    input_buffer[i] = i+10\n",
    "\n",
    "# Restart the DMA transfer, to see if your design is correct\n",
    "runKernel()\n",
    "for i in range(5):\n",
    "    print(output_buffer[i])"
   ]
  },
  {
   "cell_type": "code",
   "execution_count": null,
   "metadata": {},
   "outputs": [],
   "source": [
    "runKernel()\n",
    "for i in range(5):\n",
    "    # print('0x' + format(output_buffer[i], '02x'))\n",
    "    print(output_buffer[i])"
   ]
  },
  {
   "cell_type": "code",
   "execution_count": 44,
   "metadata": {},
   "outputs": [
    {
     "data": {
      "text/plain": [
       "RegisterMap {\n",
       "  CTRL = Register(AP_START=1, AP_DONE=0, AP_IDLE=0, AP_READY=0, RESERVED_1=0, AUTO_RESTART=1, RESERVED_2=0, INTERRUPT=0, RESERVED_3=0),\n",
       "  GIER = Register(Enable=0, RESERVED=0),\n",
       "  IP_IER = Register(CHAN0_INT_EN=0, CHAN1_INT_EN=0, RESERVED_0=0),\n",
       "  IP_ISR = Register(CHAN0_INT_ST=0, CHAN1_INT_ST=0, RESERVED_0=0)\n",
       "}"
      ]
     },
     "execution_count": 44,
     "metadata": {},
     "output_type": "execute_result"
    }
   ],
   "source": [
    "# You should obtain the similar results such as \n",
    "# It shows the HLS IP had started, has autoreset \n",
    "# RegisterMap {\n",
    "#   CTRL = Register(AP_START=1, AP_DONE=0, AP_IDLE=0, AP_READY=0, RESERVED_1=0, AUTO_RESTART=1, RESERVED_2=0, INTERRUPT=0, RESERVED_3=0),\n",
    "#   GIER = Register(Enable=0, RESERVED=0),\n",
    "#   IP_IER = Register(CHAN0_INT_EN=0, CHAN1_INT_EN=0, RESERVED_0=0),\n",
    "#   IP_ISR = Register(CHAN0_INT_ST=0, CHAN1_INT_ST=0, RESERVED_0=0)\n",
    "# }\n",
    "\n",
    "hls_ip.register_map\n"
   ]
  },
  {
   "cell_type": "code",
   "execution_count": 26,
   "metadata": {},
   "outputs": [
    {
     "data": {
      "text/plain": [
       "\u001b[0;31mType:\u001b[0m           _SDMAChannel\n",
       "\u001b[0;31mString form:\u001b[0m    <pynq.lib.dma._SDMAChannel object at 0xffffa56e27a0>\n",
       "\u001b[0;31mFile:\u001b[0m           /usr/local/share/pynq-venv/lib/python3.10/site-packages/pynq/lib/dma.py\n",
       "\u001b[0;31mDocstring:\u001b[0m     \n",
       "Drives a single channel of the Xilinx AXI Simple DMA\n",
       "\n",
       "This driver is designed to be used in conjunction with the\n",
       "`pynq.allocate()` method of memory allocation. The channel has\n",
       "main functions `transfer` and `wait` which start and wait for\n",
       "the transfer to finish respectively. If interrupts are enabled\n",
       "there is also a `wait_async` coroutine.\n",
       "\n",
       "This class should not be constructed directly, instead used\n",
       "through the AxiDMA class.\n",
       "\u001b[0;31mInit docstring:\u001b[0m\n",
       "Initialize the simple DMA object.\n",
       "\n",
       "Parameters\n",
       "----------\n",
       "mmio : MMIO\n",
       "    The MMIO controller used for DMA IP.\n",
       "max_size : int\n",
       "    Max size of the DMA buffer. Exceeding this will hang the system.\n",
       "width : int\n",
       "    Number of bytes for each data.\n",
       "tx_rx : int\n",
       "    Set to DMA_TYPE_TX(1) for sending or DMA_TYPE_RX(0) for receiving.\n",
       "dre : bool\n",
       "    Data alignment enable.\n",
       "interrupt: Interrupt\n",
       "    Interrupt used by the DMA channel.\n"
      ]
     },
     "metadata": {},
     "output_type": "display_data"
    }
   ],
   "source": [
    "dma_send?"
   ]
  },
  {
   "cell_type": "code",
   "execution_count": 45,
   "metadata": {},
   "outputs": [
    {
     "name": "stdout",
     "output_type": "stream",
     "text": [
      "Arrays are equal: True\n"
     ]
    }
   ],
   "source": [
    "print(\"Arrays are equal: {}\".format(np.array_equal(input_buffer, output_buffer-5)))"
   ]
  },
  {
   "cell_type": "markdown",
   "metadata": {},
   "source": [
    "## Free all the memory buffers\n",
    "Don't forget to free the memory buffers to avoid memory leaks! "
   ]
  },
  {
   "cell_type": "code",
   "execution_count": null,
   "metadata": {},
   "outputs": [],
   "source": [
    "del input_buffer, output_buffer"
   ]
  },
  {
   "cell_type": "code",
   "execution_count": null,
   "metadata": {},
   "outputs": [],
   "source": []
  }
 ],
 "metadata": {
  "kernelspec": {
   "display_name": "Python 3 (ipykernel)",
   "language": "python",
   "name": "python3"
  },
  "language_info": {
   "codemirror_mode": {
    "name": "ipython",
    "version": 3
   },
   "file_extension": ".py",
   "mimetype": "text/x-python",
   "name": "python",
   "nbconvert_exporter": "python",
   "pygments_lexer": "ipython3",
   "version": "3.10.12"
  }
 },
 "nbformat": 4,
 "nbformat_minor": 4
}
