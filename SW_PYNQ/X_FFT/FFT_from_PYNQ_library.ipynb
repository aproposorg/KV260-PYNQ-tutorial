{
 "cells": [
  {
   "cell_type": "code",
   "execution_count": 1,
   "metadata": {},
   "outputs": [],
   "source": [
    "import numpy as np\n",
    "from pynq import Overlay, allocate\n",
    "\n",
    "np.set_printoptions(suppress=True)"
   ]
  },
  {
   "cell_type": "code",
   "execution_count": 2,
   "metadata": {},
   "outputs": [],
   "source": [
    "x = np.loadtxt(\"wave.txt\", dtype=np.float32)\n",
    "TWO_TO_THE_POWER_OF_N_MAX = 10\n",
    "NFFT = 1 << TWO_TO_THE_POWER_OF_N_MAX"
   ]
  },
  {
   "cell_type": "code",
   "execution_count": 3,
   "metadata": {},
   "outputs": [
    {
     "data": {
      "application/javascript": [
       "\n",
       "try {\n",
       "require(['notebook/js/codecell'], function(codecell) {\n",
       "  codecell.CodeCell.options_default.highlight_modes[\n",
       "      'magic_text/x-csrc'] = {'reg':[/^%%microblaze/]};\n",
       "  Jupyter.notebook.events.one('kernel_ready.Kernel', function(){\n",
       "      Jupyter.notebook.get_cells().map(function(cell){\n",
       "          if (cell.cell_type == 'code'){ cell.auto_highlight(); } }) ;\n",
       "  });\n",
       "});\n",
       "} catch (e) {};\n"
      ]
     },
     "metadata": {},
     "output_type": "display_data"
    },
    {
     "data": {
      "application/javascript": [
       "\n",
       "try {\n",
       "require(['notebook/js/codecell'], function(codecell) {\n",
       "  codecell.CodeCell.options_default.highlight_modes[\n",
       "      'magic_text/x-csrc'] = {'reg':[/^%%pybind11/]};\n",
       "  Jupyter.notebook.events.one('kernel_ready.Kernel', function(){\n",
       "      Jupyter.notebook.get_cells().map(function(cell){\n",
       "          if (cell.cell_type == 'code'){ cell.auto_highlight(); } }) ;\n",
       "  });\n",
       "});\n",
       "} catch (e) {};\n"
      ]
     },
     "metadata": {},
     "output_type": "display_data"
    }
   ],
   "source": [
    "overlay = Overlay(\"DMA_FFT_wrapper_10032023.bit\")\n",
    "in_buffer = allocate(shape=(NFFT,), dtype=np.csingle)\n",
    "out_buffer = allocate(shape=(NFFT,), dtype=np.csingle)\n",
    "data = x[:NFFT].astype(np.csingle)\n",
    "\n",
    "fft_ip = overlay.hls_fft_0\n",
    "dma_ip = overlay.axi_dma_0\n",
    "\n",
    "fft_ip.write(0x10, TWO_TO_THE_POWER_OF_N_MAX)"
   ]
  },
  {
   "cell_type": "code",
   "execution_count": 4,
   "metadata": {},
   "outputs": [
    {
     "data": {
      "text/plain": [
       "(0.7616634+0j)"
      ]
     },
     "execution_count": 4,
     "metadata": {},
     "output_type": "execute_result"
    }
   ],
   "source": [
    "data[1]"
   ]
  },
  {
   "cell_type": "code",
   "execution_count": 5,
   "metadata": {},
   "outputs": [
    {
     "data": {
      "text/plain": [
       "PynqBuffer([0.       +0.j, 0.7616634+0.j, 1.4614664+0.j, ...,\n",
       "            1.1911113+0.j, 1.554413 +0.j, 1.7994008+0.j], dtype=complex64)"
      ]
     },
     "execution_count": 5,
     "metadata": {},
     "output_type": "execute_result"
    }
   ],
   "source": [
    "for i in range(NFFT):\n",
    "        in_buffer[i] = data[i]\n",
    "in_buffer        "
   ]
  },
  {
   "cell_type": "code",
   "execution_count": 6,
   "metadata": {},
   "outputs": [],
   "source": [
    "def fft_on_hw(fft_ip, dma_ip, input_data):    \n",
    "    \n",
    "    for i in range(NFFT):\n",
    "        in_buffer[i] = input_data[i]\n",
    "        \n",
    "    dma_ip.sendchannel.transfer(in_buffer)\n",
    "    dma_ip.recvchannel.transfer(out_buffer)\n",
    "    fft_ip.write(0x00, 0x01)\n",
    "    while not ((fft_ip.read(0x00) >> 1) & 0x01):\n",
    "        continue\n",
    "    # dma_ip.sendchannel.wait()\n",
    "    # dma_ip.recvchannel.wait() \n",
    "    return out_buffer.copy()"
   ]
  },
  {
   "cell_type": "code",
   "execution_count": null,
   "metadata": {},
   "outputs": [],
   "source": []
  },
  {
   "cell_type": "code",
   "execution_count": 7,
   "metadata": {
    "scrolled": true
   },
   "outputs": [
    {
     "data": {
      "text/plain": [
       "PynqBuffer([11.942313+0.j        , 11.952061-0.15409547j,\n",
       "            11.981426-0.3086664j , ..., 12.030692+0.46418774j,\n",
       "            11.981438+0.30866188j, 11.952067+0.15408981j], dtype=complex64)"
      ]
     },
     "execution_count": 7,
     "metadata": {},
     "output_type": "execute_result"
    }
   ],
   "source": [
    "fft_on_hw(fft_ip, dma_ip, data)"
   ]
  },
  {
   "cell_type": "code",
   "execution_count": 8,
   "metadata": {},
   "outputs": [
    {
     "data": {
      "text/plain": [
       "PynqBuffer([11.942313+0.j        , 11.952061-0.15409547j,\n",
       "            11.981426-0.3086664j , ..., 12.030692+0.46418774j,\n",
       "            11.981438+0.30866188j, 11.952067+0.15408981j], dtype=complex64)"
      ]
     },
     "execution_count": 8,
     "metadata": {},
     "output_type": "execute_result"
    }
   ],
   "source": [
    "out_buffer"
   ]
  },
  {
   "cell_type": "code",
   "execution_count": null,
   "metadata": {},
   "outputs": [],
   "source": []
  }
 ],
 "metadata": {
  "kernelspec": {
   "display_name": "Python 3 (ipykernel)",
   "language": "python",
   "name": "python3"
  },
  "language_info": {
   "codemirror_mode": {
    "name": "ipython",
    "version": 3
   },
   "file_extension": ".py",
   "mimetype": "text/x-python",
   "name": "python",
   "nbconvert_exporter": "python",
   "pygments_lexer": "ipython3",
   "version": "3.10.6"
  }
 },
 "nbformat": 4,
 "nbformat_minor": 4
}
